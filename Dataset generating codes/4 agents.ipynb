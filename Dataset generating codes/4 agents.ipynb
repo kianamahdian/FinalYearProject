{
  "nbformat": 4,
  "nbformat_minor": 0,
  "metadata": {
    "colab": {
      "provenance": []
    },
    "kernelspec": {
      "name": "python3",
      "display_name": "Python 3"
    },
    "language_info": {
      "name": "python"
    }
  },
  "cells": [
    {
      "cell_type": "code",
      "execution_count": null,
      "metadata": {
        "id": "u6WcoXLJdnjp",
        "colab": {
          "base_uri": "https://localhost:8080/",
          "height": 35
        },
        "outputId": "cf15ddb3-7718-4686-e33b-22fc51445423"
      },
      "outputs": [
        {
          "output_type": "execute_result",
          "data": {
            "text/plain": [
              "'full_norm_scenarios4.csv'"
            ],
            "application/vnd.google.colaboratory.intrinsic+json": {
              "type": "string"
            }
          },
          "metadata": {},
          "execution_count": 10
        }
      ],
      "source": [
        "import pandas as pd\n",
        "import random\n",
        "\n",
        "\n",
        "topics = [\n",
        "    \"Climate Change\",\n",
        "    \"Artificial Intelligence\",\n",
        "    \"Space Exploration\",\n",
        "    \"Universal Basic Income\",\n",
        "    \"Education Reform\",\n",
        "    \"Healthcare Accessibility\",\n",
        "    \"Data Privacy\",\n",
        "    \"Renewable Energy\",\n",
        "    \"Freedom of Speech\",\n",
        "    \"Animal Rights\"\n",
        "]\n",
        "\n",
        "\n",
        "norm_templates = [\n",
        "    \"In the context of {topic}, the norm states that {detail}.\",\n",
        "    \"Regarding {topic}, it is proposed that {detail}.\",\n",
        "    \"A new rule in {topic} suggests that {detail}.\"\n",
        "]\n",
        "\n",
        "\n",
        "norm_details = [\n",
        "    \"governments must invest at least 50% of their budget into related technologies\",\n",
        "    \"individuals should prioritize this issue over other social problems\",\n",
        "    \"organizations are required to disclose their related activities publicly\",\n",
        "    \"there must be strict regulations to prevent misuse\",\n",
        "    \"everyone has equal access to the benefits of this effort\",\n",
        "    \"violators should face legal consequences for non-compliance\",\n",
        "    \"research must focus on ethical implications first\",\n",
        "    \"international cooperation is mandatory for success\",\n",
        "    \"communities are encouraged to take grassroots actions\",\n",
        "    \"this effort should not compromise personal freedoms\"\n",
        "]\n",
        "\n",
        "\n",
        "agents = [\"Agent1\", \"Agent2\", \"Agent3\", \"Agent4\"]\n",
        "\n",
        "\n",
        "stances = [\"agree\", \"disagree\", \"neutral\"]\n",
        "argument_template = \"{agent} believes this because {reason}.\"\n",
        "reasons = [\n",
        "    \"it aligns with societal values\",\n",
        "    \"it ensures fairness\",\n",
        "    \"it encourages innovation\",\n",
        "    \"it reduces inequality\",\n",
        "    \"it promotes ethical practices\",\n",
        "    \"it has significant economic benefits\",\n",
        "    \"it is too costly to implement\",\n",
        "    \"it could infringe on individual freedoms\",\n",
        "    \"it lacks sufficient evidence to support it\",\n",
        "    \"it might cause unintended consequences\"\n",
        "]\n",
        "\n",
        "\n",
        "data = []\n",
        "for i in range(1, 101):\n",
        "    topic = random.choice(topics)\n",
        "    detail = random.choice(norm_details)\n",
        "    norm = random.choice(norm_templates).format(topic=topic, detail=detail)\n",
        "\n",
        "    for agent in agents:\n",
        "        stance = random.choice(stances)\n",
        "        reason = random.choice(reasons)\n",
        "        argument = argument_template.format(agent=agent, reason=reason)\n",
        "        data.append({\"Norm\": norm, \"Topic\": topic, \"Agent\": agent, \"Stance\": stance, \"Argument\": argument})\n",
        "\n",
        "\n",
        "df = pd.DataFrame(data)\n",
        "file_path = \"full_norm_scenarios4.csv\"\n",
        "df.to_csv(file_path, index=False)\n",
        "\n",
        "file_path\n"
      ]
    }
  ]
}