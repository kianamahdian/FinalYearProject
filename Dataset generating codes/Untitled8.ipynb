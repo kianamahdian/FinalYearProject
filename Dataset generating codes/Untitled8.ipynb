{
  "nbformat": 4,
  "nbformat_minor": 0,
  "metadata": {
    "colab": {
      "provenance": []
    },
    "kernelspec": {
      "name": "python3",
      "display_name": "Python 3"
    },
    "language_info": {
      "name": "python"
    }
  },
  "cells": [
    {
      "cell_type": "code",
      "execution_count": null,
      "metadata": {
        "id": "bxUNi2E3exk4",
        "outputId": "de22d210-e888-4161-df33-957fd1299849",
        "colab": {
          "base_uri": "https://localhost:8080/"
        }
      },
      "outputs": [
        {
          "output_type": "stream",
          "name": "stdout",
          "text": [
            "Datasets generated and saved as 'refined_agent_stances.csv' and 'refined_agent_relationships.csv'.\n"
          ]
        }
      ],
      "source": [
        "import pandas as pd\n",
        "import random\n",
        "\n",
        "norms = [\n",
        "    {\"Norm\": \"Norm1\", \"Topic\": \"Climate Change Action\"},\n",
        "    {\"Norm\": \"Norm2\", \"Topic\": \"Artificial Intelligence Ethics\"},\n",
        "    {\"Norm\": \"Norm3\", \"Topic\": \"Space Exploration Funding\"},\n",
        "    {\"Norm\": \"Norm4\", \"Topic\": \"Universal Basic Income\"},\n",
        "    {\"Norm\": \"Norm5\", \"Topic\": \"Online Privacy Regulations\"}\n",
        "]\n",
        "\n",
        "agents = [f\"Agent{i}\" for i in range(1, 6)]\n",
        "stances = [\"agree\", \"disagree\", \"neutral\"]\n",
        "relationships = [\"attacks\", \"defends\"]\n",
        "\n",
        "\n",
        "agent_stances = []\n",
        "for norm in norms:\n",
        "    for agent in agents:\n",
        "        agent_stances.append({\n",
        "            \"Norm\": norm[\"Norm\"],\n",
        "            \"Topic\": norm[\"Topic\"],\n",
        "            \"Agent\": agent,\n",
        "            \"Stance\": random.choice(stances),\n",
        "            \"Argument\": f\"{agent} believes this is {random.choice(['beneficial', 'harmful', 'unclear'])}.\"\n",
        "        })\n",
        "\n",
        "\n",
        "agent_relationships = []\n",
        "for norm in norms:\n",
        "    for _ in range(random.randint(3, 6)):\n",
        "        agent1, agent2 = random.sample(agents, 2)\n",
        "        agent_relationships.append({\n",
        "            \"Norm\": norm[\"Norm\"],\n",
        "            \"Agent1\": agent1,\n",
        "            \"Agent2\": agent2,\n",
        "            \"Agent1_Stance\": random.choice(stances),\n",
        "            \"Agent2_Stance\": random.choice(stances),\n",
        "            \"Status\": random.choice(relationships)\n",
        "        })\n",
        "\n",
        "\n",
        "df_agent_stances = pd.DataFrame(agent_stances)\n",
        "df_agent_relationships = pd.DataFrame(agent_relationships)\n",
        "\n",
        "df_agent_stances.to_csv(\"refined_agent_stances.csv\", index=False)\n",
        "df_agent_relationships.to_csv(\"refined_agent_relationships.csv\", index=False)\n",
        "\n",
        "print(\"Datasets generated and saved as 'refined_agent_stances.csv' and 'refined_agent_relationships.csv'.\")\n"
      ]
    }
  ]
}