{
  "nbformat": 4,
  "nbformat_minor": 0,
  "metadata": {
    "colab": {
      "provenance": []
    },
    "kernelspec": {
      "name": "python3",
      "display_name": "Python 3"
    },
    "language_info": {
      "name": "python"
    }
  },
  "cells": [
    {
      "cell_type": "code",
      "execution_count": null,
      "metadata": {
        "colab": {
          "base_uri": "https://localhost:8080/"
        },
        "id": "cjgJJLPf296T",
        "outputId": "fca16633-1d4e-44f5-8a73-e38fa44dd8fa"
      },
      "outputs": [
        {
          "output_type": "stream",
          "name": "stdout",
          "text": [
            "Generated stances file: complex_norms_and_stances.csv\n",
            "Generated relationships file: complex_relationships.csv\n"
          ]
        }
      ],
      "source": [
        "import pandas as pd\n",
        "import random\n",
        "\n",
        "\n",
        "NUM_NORMS = 50\n",
        "NUM_AGENTS = 10\n",
        "TOPICS = [\n",
        "    \"Climate Change\", \"Artificial Intelligence\", \"Space Exploration\",\n",
        "    \"Universal Basic Income\", \"Education Reform\", \"Healthcare Accessibility\",\n",
        "    \"Data Privacy\", \"Renewable Energy\", \"Freedom of Speech\", \"Animal Rights\"\n",
        "]\n",
        "STANCES = [\"agree\", \"disagree\", \"neutral\"]\n",
        "RELATIONSHIPS = [\"attacks\", \"defends\"]\n",
        "\n",
        "\n",
        "norms = [f\"Norm {i+1}\" for i in range(NUM_NORMS)]\n",
        "topics = random.choices(TOPICS, k=NUM_NORMS)\n",
        "\n",
        "stances_data = []\n",
        "relationships_data = []\n",
        "\n",
        "for norm, topic in zip(norms, topics):\n",
        "    agent_stances = {}\n",
        "    for agent_id in range(1, NUM_AGENTS + 1):\n",
        "        agent = f\"Agent{agent_id}\"\n",
        "        stance = random.choice(STANCES)\n",
        "        agent_stances[agent] = stance\n",
        "        stances_data.append({\n",
        "            \"Norm\": norm,\n",
        "            \"Topic\": topic,\n",
        "            \"Agent\": agent,\n",
        "            \"Stance\": stance,\n",
        "            \"Argument\": f\"{agent} believes this because it {random.choice(['is fair', 'encourages innovation', 'is risky'])}.\"\n",
        "        })\n",
        "\n",
        "    agents = list(agent_stances.keys())\n",
        "    for _ in range(random.randint(5, 15)):\n",
        "        agent1, agent2 = random.sample(agents, 2)\n",
        "        relation = random.choice(RELATIONSHIPS)\n",
        "        relationships_data.append({\n",
        "            \"Norm\": norm,\n",
        "            \"Agent1\": agent1,\n",
        "            \"Agent2\": agent2,\n",
        "            \"Agent1_Stance\": agent_stances[agent1],\n",
        "            \"Agent2_Stance\": agent_stances[agent2],\n",
        "            \"Status\": relation\n",
        "        })\n",
        "\n",
        "\n",
        "stances_df = pd.DataFrame(stances_data)\n",
        "relationships_df = pd.DataFrame(relationships_data)\n",
        "\n",
        "\n",
        "stances_file = \"complex_norms_and_stances.csv\"\n",
        "relationships_file = \"complex_relationships.csv\"\n",
        "stances_df.to_csv(stances_file, index=False)\n",
        "relationships_df.to_csv(relationships_file, index=False)\n",
        "\n",
        "print(f\"Generated stances file: {stances_file}\")\n",
        "print(f\"Generated relationships file: {relationships_file}\")\n"
      ]
    }
  ]
}