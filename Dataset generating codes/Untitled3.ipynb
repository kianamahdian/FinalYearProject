{
  "nbformat": 4,
  "nbformat_minor": 0,
  "metadata": {
    "colab": {
      "provenance": []
    },
    "kernelspec": {
      "name": "python3",
      "display_name": "Python 3"
    },
    "language_info": {
      "name": "python"
    }
  },
  "cells": [
    {
      "cell_type": "code",
      "execution_count": null,
      "metadata": {
        "colab": {
          "base_uri": "https://localhost:8080/",
          "height": 35
        },
        "id": "6RH3DAnQFdVP",
        "outputId": "7030dd93-4419-4534-f9c8-9e9ff711df9a"
      },
      "outputs": [
        {
          "output_type": "stream",
          "name": "stdout",
          "text": [
            "Dataset saved as 'full_norm_scenarios.csv'.\n"
          ]
        },
        {
          "output_type": "display_data",
          "data": {
            "text/plain": [
              "<IPython.core.display.Javascript object>"
            ],
            "application/javascript": [
              "\n",
              "    async function download(id, filename, size) {\n",
              "      if (!google.colab.kernel.accessAllowed) {\n",
              "        return;\n",
              "      }\n",
              "      const div = document.createElement('div');\n",
              "      const label = document.createElement('label');\n",
              "      label.textContent = `Downloading \"${filename}\": `;\n",
              "      div.appendChild(label);\n",
              "      const progress = document.createElement('progress');\n",
              "      progress.max = size;\n",
              "      div.appendChild(progress);\n",
              "      document.body.appendChild(div);\n",
              "\n",
              "      const buffers = [];\n",
              "      let downloaded = 0;\n",
              "\n",
              "      const channel = await google.colab.kernel.comms.open(id);\n",
              "      // Send a message to notify the kernel that we're ready.\n",
              "      channel.send({})\n",
              "\n",
              "      for await (const message of channel.messages) {\n",
              "        // Send a message to notify the kernel that we're ready.\n",
              "        channel.send({})\n",
              "        if (message.buffers) {\n",
              "          for (const buffer of message.buffers) {\n",
              "            buffers.push(buffer);\n",
              "            downloaded += buffer.byteLength;\n",
              "            progress.value = downloaded;\n",
              "          }\n",
              "        }\n",
              "      }\n",
              "      const blob = new Blob(buffers, {type: 'application/binary'});\n",
              "      const a = document.createElement('a');\n",
              "      a.href = window.URL.createObjectURL(blob);\n",
              "      a.download = filename;\n",
              "      div.appendChild(a);\n",
              "      a.click();\n",
              "      div.remove();\n",
              "    }\n",
              "  "
            ]
          },
          "metadata": {}
        },
        {
          "output_type": "display_data",
          "data": {
            "text/plain": [
              "<IPython.core.display.Javascript object>"
            ],
            "application/javascript": [
              "download(\"download_32763202-b6a6-493c-9f5f-619e4254f0b6\", \"full_norm_scenarios.csv\", 61917)"
            ]
          },
          "metadata": {}
        }
      ],
      "source": [
        "import pandas as pd\n",
        "import random\n",
        "\n",
        "\n",
        "topics = [\n",
        "    \"Climate Change\",\n",
        "    \"Artificial Intelligence\",\n",
        "    \"Space Exploration\",\n",
        "    \"Universal Basic Income\",\n",
        "    \"Education Reform\",\n",
        "    \"Healthcare Accessibility\",\n",
        "    \"Data Privacy\",\n",
        "    \"Renewable Energy\",\n",
        "    \"Freedom of Speech\",\n",
        "    \"Animal Rights\"\n",
        "]\n",
        "\n",
        "\n",
        "norm_templates = [\n",
        "    \"In the context of {topic}, the norm states that {detail}.\",\n",
        "    \"Regarding {topic}, it is proposed that {detail}.\",\n",
        "    \"A new rule in {topic} suggests that {detail}.\"\n",
        "]\n",
        "\n",
        "norm_details = [\n",
        "    \"governments must invest at least 50% of their budget into related technologies\",\n",
        "    \"individuals should prioritize this issue over other social problems\",\n",
        "    \"organizations are required to disclose their related activities publicly\",\n",
        "    \"there must be strict regulations to prevent misuse\",\n",
        "    \"everyone has equal access to the benefits of this effort\",\n",
        "    \"violators should face legal consequences for non-compliance\",\n",
        "    \"research must focus on ethical implications first\",\n",
        "    \"international cooperation is mandatory for success\",\n",
        "    \"communities are encouraged to take grassroots actions\",\n",
        "    \"this effort should not compromise personal freedoms\"\n",
        "]\n",
        "\n",
        "\n",
        "agents = [\"Agent1\", \"Agent2\", \"Agent3\"]\n",
        "\n",
        "\n",
        "stances = [\"agree\", \"disagree\", \"neutral\"]\n",
        "argument_template = \"{agent} believes this because {reason}.\"\n",
        "\n",
        "\n",
        "reasons = [\n",
        "    \"it aligns with societal values\",\n",
        "    \"it ensures fairness\",\n",
        "    \"it encourages innovation\",\n",
        "    \"it reduces inequality\",\n",
        "    \"it promotes ethical practices\",\n",
        "    \"it has significant economic benefits\",\n",
        "    \"it is too costly to implement\",\n",
        "    \"it could infringe on individual freedoms\",\n",
        "    \"it lacks sufficient evidence to support it\",\n",
        "    \"it might cause unintended consequences\"\n",
        "]\n",
        "\n",
        "\n",
        "data = []\n",
        "for i in range(1, 101):\n",
        "\n",
        "    topic = random.choice(topics)\n",
        "    detail = random.choice(norm_details)\n",
        "    norm = random.choice(norm_templates).format(topic=topic, detail=detail)\n",
        "\n",
        "\n",
        "    for agent in agents:\n",
        "        stance = random.choice(stances)\n",
        "        reason = random.choice(reasons)\n",
        "        argument = argument_template.format(agent=agent, reason=reason)\n",
        "        data.append({\"Norm\": norm, \"Topic\": topic, \"Agent\": agent, \"Stance\": stance, \"Argument\": argument})\n",
        "\n",
        "\n",
        "file_path = \"full_norm_scenarios.csv\"\n",
        "df.to_csv(file_path, index=False)\n",
        "\n",
        "\n",
        "print(f\"Dataset saved as '{file_path}'.\")\n",
        "\n",
        "\n",
        "try:\n",
        "    from google.colab import files\n",
        "    files.download(file_path)\n",
        "except ImportError:\n",
        "    print(\"If you are not in Google Colab, the file is saved locally in the current directory.\")\n",
        "\n"
      ]
    }
  ]
}